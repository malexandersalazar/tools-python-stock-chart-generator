{
 "cells": [
  {
   "cell_type": "code",
   "execution_count": null,
   "metadata": {},
   "outputs": [],
   "source": [
    "import yfinance as yf\n",
    "\n",
    "import matplotlib.dates as mpl_dates\n",
    "import matplotlib.pyplot as plt\n",
    "from mpl_finance import candlestick_ohlc\n",
    "\n",
    "import seaborn as sns\n",
    "import numpy as np\n",
    "\n",
    "# Configurando los estilos de los gráficos\n",
    "plt.ioff()\n",
    "sns.set_style(\"darkgrid\")\n",
    "sns.set(rc={'axes.facecolor':'#263238', 'figure.facecolor':'#263238'})\n",
    "sns.set_context('talk')"
   ]
  },
  {
   "cell_type": "code",
   "execution_count": null,
   "metadata": {},
   "outputs": [],
   "source": [
    "# Valid periods: 1d,5d,1mo,3mo,6mo,1y,2y,5y,10y,ytd,max\n",
    "# Valid intervals: [1m, 2m, 5m, 15m, 30m, 60m, 90m, 1h, 1d, 5d, 1wk, 1mo, 3mo]\n",
    "# Intraday data cannot extend last 60 days"
   ]
  },
  {
   "cell_type": "code",
   "execution_count": null,
   "metadata": {},
   "outputs": [],
   "source": [
    "ARG_YAHOO_SYMBOL = 'MSFT'\n",
    "ARG_PERIOD = '3mo'\n",
    "ARG_INTERVAL = '1d'"
   ]
  },
  {
   "cell_type": "code",
   "execution_count": null,
   "metadata": {},
   "outputs": [],
   "source": [
    "yahoo_symbol = str.upper(ARG_YAHOO_SYMBOL)\n",
    "period = str.upper(ARG_PERIOD)\n",
    "interval = str.upper(ARG_INTERVAL)"
   ]
  },
  {
   "cell_type": "code",
   "execution_count": null,
   "metadata": {},
   "outputs": [],
   "source": [
    "def _get_yfinance_data(yahoo_symbol,period,interval):\n",
    "    print(f'Retreiving {period}/{interval} data for {yahoo_symbol} from yfinance...')\n",
    "    tick = yf.Ticker(yahoo_symbol)\n",
    "    history_df = tick.history(period=period,interval=interval)\n",
    "    history_df.dropna(inplace=True)\n",
    "    history_df = history_df[~history_df.index.duplicated(keep='last')]\n",
    "    return history_df"
   ]
  },
  {
   "cell_type": "code",
   "execution_count": null,
   "metadata": {},
   "outputs": [],
   "source": [
    "require_4h_transform = False\n",
    "if(interval == '4H'):\n",
    "    interval = '1H'\n",
    "    require_4h_transform = True\n",
    "\n",
    "stock_data = _get_yfinance_data(yahoo_symbol,period,interval)"
   ]
  },
  {
   "cell_type": "code",
   "execution_count": null,
   "metadata": {},
   "outputs": [],
   "source": [
    "if require_4h_transform:\n",
    "    stock_data = stock_data[::-1]\n",
    "    stock_data['Open'] = stock_data['Open'].rolling(4).agg(lambda rows: rows[-1])\n",
    "    stock_data['High'] = stock_data['High'].rolling(4).max()\n",
    "    stock_data['Low'] = stock_data['Low'].rolling(4).min()\n",
    "    stock_data['Close']  = stock_data['Close'].rolling(4).agg(lambda rows: rows[0])\n",
    "    stock_data = stock_data[::-1].copy()\n",
    "    stock_data.dropna(inplace=True)\n",
    "    skip = (len(stock_data) - 1) % 4\n",
    "    stock_data = stock_data.iloc[skip::4]\n",
    "    interval = '4H'"
   ]
  },
  {
   "cell_type": "code",
   "execution_count": null,
   "metadata": {},
   "outputs": [],
   "source": [
    "chart_data_df = stock_data.reset_index()"
   ]
  },
  {
   "cell_type": "code",
   "execution_count": null,
   "metadata": {},
   "outputs": [],
   "source": [
    "chart_data_df.rename(columns={\"index\": \"Date\" }, inplace=True)"
   ]
  },
  {
   "cell_type": "code",
   "execution_count": null,
   "metadata": {},
   "outputs": [],
   "source": [
    "chart_data_df['Timestamp'] = chart_data_df['Date']\n",
    "chart_data_df['Order'] = chart_data_df['Date'].apply(mpl_dates.date2num)\n",
    "chart_data_ohlc_df = chart_data_df[['Order', 'Open', 'High', 'Low', 'Close']].copy()"
   ]
  },
  {
   "cell_type": "code",
   "execution_count": null,
   "metadata": {},
   "outputs": [],
   "source": [
    "chart_data_ohlc_df.sort_values(by='Order',ascending=True, inplace=True)"
   ]
  },
  {
   "cell_type": "code",
   "execution_count": null,
   "metadata": {},
   "outputs": [],
   "source": [
    "chart_data_ohlc_df.loc[:,'Order'] = chart_data_df.index.values"
   ]
  },
  {
   "cell_type": "code",
   "execution_count": null,
   "metadata": {},
   "outputs": [],
   "source": [
    "size = int(len(chart_data_ohlc_df)  / 12)"
   ]
  },
  {
   "cell_type": "code",
   "execution_count": null,
   "metadata": {},
   "outputs": [],
   "source": [
    "plt.clf()\n",
    "fig, ax = plt.subplots(figsize=(20,10))\n",
    "\n",
    "candlestick_ohlc(ax, chart_data_ohlc_df.values, width=0.5, colorup='#24A06B', colordown='#CC2E3C', alpha=1.0)\n",
    "\n",
    "ax.set_xticks(range(len(chart_data_df))[::size])\n",
    "ax.set_xticklabels(chart_data_df['Timestamp'][::size].dt.strftime('%Y.%m.%d'))\n",
    "\n",
    "current_values = ax.get_yticks()\n",
    "ax.set_yticks(current_values)\n",
    "ax.set_xlim(0,len(chart_data_df))\n",
    "\n",
    "decimals = int(max(0,np.floor(5 - np.log10(np.mean(current_values)))))\n",
    "ax.set_yticklabels(['{0:.{precision}f}'.format(x, precision=decimals) for x in current_values])\n",
    "ax.set_ylim(min(current_values)+0.000001,max(current_values)-0.000001)\n",
    "\n",
    "fig.tight_layout()\n",
    "\n",
    "text_interval_props = dict(boxstyle='round', facecolor='#172327',edgecolor='#172327')\n",
    "ax.text(0.02, 0.97, f'{yahoo_symbol} [{interval}]', transform=ax.transAxes,verticalalignment='top',bbox=text_interval_props, color='w')\n",
    "ax.tick_params(axis='x', colors='white',labelrotation=0)\n",
    "ax.tick_params(axis='y', colors='white')\n",
    "ax.grid(color='#455A64')\n",
    "sns.despine(left=False, bottom=False)\n",
    "\n",
    "plt.show()\n",
    "\n",
    "fig.savefig(f'{yahoo_symbol}_{period}_{interval}.png', bbox_inches='tight')"
   ]
  },
  {
   "cell_type": "code",
   "execution_count": null,
   "metadata": {},
   "outputs": [],
   "source": [
    "# import certifi\n",
    "# import json\n",
    "# from urllib.request import urlopen\n",
    "\n",
    "# def _get_fmp_data(url):\n",
    "#     response = urlopen(url, cafile=certifi.where())\n",
    "#     data = response.read().decode(\"utf-8\")\n",
    "#     return json.loads(data)\n",
    "\n",
    "# url = (\"https://financialmodelingprep.com/api/v3/historical-price-full/EURUSD?apikey=[APIKEY]\")\n",
    "# json_result = _get_fmp_data(url)\n",
    "\n",
    "# chart_data_df = pd.DataFrame(json_result['historical'])\n",
    "# chart_data_df['close'] = chart_data_df['adjClose']\n",
    "# chart_data_df.rename(columns={\"date\": \"Date\", \"open\": \"Open\", \"high\": \"High\", \"low\": \"Low\", \"close\": \"Close\"}, inplace=True)\n",
    "# chart_data_df['Date'] = pd.to_datetime(chart_data_df['Date'])\n",
    "# chart_data_df = chart_data_df.head(132)\n",
    "# chart_data_df"
   ]
  }
 ],
 "metadata": {
  "kernelspec": {
   "display_name": "base",
   "language": "python",
   "name": "python3"
  },
  "language_info": {
   "codemirror_mode": {
    "name": "ipython",
    "version": 3
   },
   "file_extension": ".py",
   "mimetype": "text/x-python",
   "name": "python",
   "nbconvert_exporter": "python",
   "pygments_lexer": "ipython3",
   "version": "3.8.5"
  },
  "orig_nbformat": 4,
  "vscode": {
   "interpreter": {
    "hash": "ff4f85d6e04298634172ac5d8264e7e9b556b95639fe52ebb9425c4d4cba0c9c"
   }
  }
 },
 "nbformat": 4,
 "nbformat_minor": 2
}
